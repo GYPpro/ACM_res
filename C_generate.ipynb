{
 "cells": [
  {
   "cell_type": "code",
   "execution_count": 5,
   "metadata": {},
   "outputs": [],
   "source": [
    "import os\n",
    "def safe_find(lst, item):\n",
    "    try:\n",
    "        return lst.index(item)\n",
    "    except ValueError:\n",
    "        return -1\n",
    "def traverse_directory(directory, file_dict):\n",
    "    for root, _, files in os.walk(directory):\n",
    "        for file in files:\n",
    "            file_path = os.path.join(root, file)\n",
    "            with open(file_path, 'r', encoding='utf-8') as f:\n",
    "                file_content = f.read()\n",
    "            file_dict[file_path] = file_content\n",
    "\n",
    "def cover(sourcecode):\n",
    "    return \"#sourcecode[```cpp\\n\" + sourcecode + \"\\n```]\"\n",
    "\n",
    "def addTitle(titleLists,curPath):\n",
    "    curPathList = curPath.split(\"\\\\\")\n",
    "    rst = \"\"\n",
    "    for i in range(len(curPathList)):\n",
    "        titleLists[i] = titleLists.get(i,[])\n",
    "        if(safe_find(titleLists[i],curPathList[i]) == -1):\n",
    "            titleLists[i].append(curPathList[i])\n",
    "            sharps = []\n",
    "            for k in range(i+1):\n",
    "                sharps.append(\"=\")\n",
    "            if curPathList[i].find(\".\") != -1:\n",
    "                curPathList[i] = \"`\" + curPathList[i] + \"`\"\n",
    "            else:\n",
    "                curPathList[i] = \"#smallcaps[\" + curPathList[i][0].upper() + curPathList[i][1:] + \"]\\n\"\n",
    "            rst += \"\".join(sharps) + \" \" + curPathList[i] + \"\\n\"\n",
    "    return rst"
   ]
  },
  {
   "cell_type": "code",
   "execution_count": 6,
   "metadata": {},
   "outputs": [],
   "source": [
    "IN = open(\"C_templete.typ\",\"r\")\n",
    "TAMPLETE = IN.read()"
   ]
  },
  {
   "cell_type": "code",
   "execution_count": 7,
   "metadata": {},
   "outputs": [
    {
     "name": "stdout",
     "output_type": "stream",
     "text": [
      "basic\\pbds.h\n",
      "basic\\test.typ\n",
      "ds\\bst.h\n",
      "ds\\dsu.h\n",
      "ds\\segTree_add.h\n",
      "ds\\segTree_add_setto.h\n",
      "ds\\segTree_MX_MI.h\n",
      "ds\\ST.h\n",
      "ds\\twoDimPrfxSum.h\n",
      "geo\\Rotating_Calipers.h\n",
      "graph\\Flow\\max_Flow_print.h\n",
      "graph\\Flow\\min_Cost.h\n",
      "graph\\Path\\SCSP.h\n",
      "graph\\Tree\\hld.h\n",
      "graph\\Tree\\lca.h\n",
      "math\\number_theory\\basic.h\n",
      "math\\number_theory\\Comb.h\n",
      "math\\number_theory\\CRT.h\n",
      "math\\number_theory\\Eular_phi.h\n",
      "math\\number_theory\\Eular_sieve.h\n",
      "math\\number_theory\\factor_pr.h\n",
      "math\\other\\Frac.h\n",
      "string\\AC_automaton.h\n",
      "string\\compress_print.h\n",
      "string\\get_occr.h\n",
      "string\\hash_print.h\n",
      "string\\KMP.h\n",
      "string\\trie_Tree.h\n"
     ]
    }
   ],
   "source": [
    "OUTSTR = TAMPLETE\n",
    "files = {}\n",
    "traverse_directory(\"0_Template\",files)\n",
    "\n",
    "titleLists = {}\n",
    "\n",
    "for path,data in files.items():\n",
    "    if data.find(\"##IGNORE##\") == -1:\n",
    "        path = path.replace(\"0_Template\\\\\",\"\")\n",
    "        # print(addTitle(titleLists,path))\n",
    "        # path = path.replace(\"\\\\\",\"\\\\\\\\\")\n",
    "        print(path)\n",
    "        sefx = path.split(\".\")[-1]\n",
    "        if(sefx == \"cpp\" or sefx == \"h\" or sefx == \"hpp\"):\n",
    "            t = addTitle(titleLists,path)\n",
    "            OUTSTR += t + \"\\n\"\n",
    "            OUTSTR += \"\\n \" + cover(data)\n",
    "            OUTSTR += \"\\n #pagebreak() \\n\"\n",
    "        else :\n",
    "            t = addTitle(titleLists,path)\n",
    "            OUTSTR += t + \"\\n\"\n",
    "            OUTSTR += \"\\n \" + data.split(\"///MAIN---MAIN///\")[1]\n",
    "            OUTSTR += \"\\n #pagebreak() \\n\"\n",
    "    else:\n",
    "        pass\n"
   ]
  },
  {
   "cell_type": "code",
   "execution_count": 8,
   "metadata": {},
   "outputs": [
    {
     "name": "stdout",
     "output_type": "stream",
     "text": [
      "48693\n"
     ]
    }
   ],
   "source": [
    "print(len(OUTSTR))\n",
    "OUT = open(\"C_printDoc.typ\",\"w\")\n",
    "OUT.write(OUTSTR)\n",
    "OUT.close()"
   ]
  },
  {
   "cell_type": "code",
   "execution_count": null,
   "metadata": {},
   "outputs": [],
   "source": []
  }
 ],
 "metadata": {
  "kernelspec": {
   "display_name": "base",
   "language": "python",
   "name": "python3"
  },
  "language_info": {
   "codemirror_mode": {
    "name": "ipython",
    "version": 3
   },
   "file_extension": ".py",
   "mimetype": "text/x-python",
   "name": "python",
   "nbconvert_exporter": "python",
   "pygments_lexer": "ipython3",
   "version": "3.11.5"
  }
 },
 "nbformat": 4,
 "nbformat_minor": 2
}
